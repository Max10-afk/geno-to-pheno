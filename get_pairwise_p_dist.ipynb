{
 "cells": [
  {
   "cell_type": "code",
   "execution_count": 1,
   "metadata": {},
   "outputs": [],
   "source": [
    "import os\n",
    "import numpy as np\n",
    "import pandas as pd\n",
    "import matplotlib.pyplot as plt\n",
    "import sys\n",
    "import itertools\n",
    "from sklearn.metrics.pairwise import pairwise_distances"
   ]
  },
  {
   "cell_type": "code",
   "execution_count": 2,
   "metadata": {},
   "outputs": [],
   "source": [
    "all_geno_combs = list(itertools.product([\"A\", \"T\", \"G\", \"C\"], [\"A\", \"T\", \"G\", \"C\"])) + [(\"-\", \"-\")]\n",
    "all_geno_combs = np.unique([\"\".join(np.sort(cur_genos)) for cur_genos in all_geno_combs])\n",
    "cur_source = \"./data/var_autoencoder/aggression_indep_kl/\""
   ]
  },
  {
   "cell_type": "code",
   "execution_count": 3,
   "metadata": {},
   "outputs": [],
   "source": [
    "def to_one_hot(df, vocab, stack_axis = 1):\n",
    "    res = [np.float16(np.array(df) == cur_class) for cur_class in vocab]\n",
    "    res = np.stack(res, axis = stack_axis)\n",
    "    return res"
   ]
  },
  {
   "cell_type": "code",
   "execution_count": 4,
   "metadata": {},
   "outputs": [],
   "source": [
    "child_genos_test = pd.read_csv(cur_source + \"child_genos_test.csv\")\n",
    "child_genos_test_one_hot = to_one_hot(child_genos_test.to_numpy()[:, 3:-2], all_geno_combs)\n",
    "child_genos_train = pd.read_csv(cur_source + \"child_genos_train.csv\")\n",
    "child_genos_train_one_hot = to_one_hot(child_genos_train.to_numpy()[:, 3:-2], all_geno_combs)\n",
    "\n",
    "p1_test_genos_df = pd.read_csv(cur_source + \"p1_test_genos_df.csv\")\n",
    "p1_test_genos_one_hot = to_one_hot(p1_test_genos_df.to_numpy()[:, 1:-1], all_geno_combs)\n",
    "p2_test_genos_df = pd.read_csv(cur_source + \"p2_test_genos_df.csv\")\n",
    "p2_test_genos_one_hot = to_one_hot(p2_test_genos_df.to_numpy()[:, 1:-1], all_geno_combs)\n",
    "\n",
    "p1_train_genos_df = pd.read_csv(cur_source + \"p1_train_genos_df.csv\")\n",
    "p1_train_genos_one_hot = to_one_hot(p1_train_genos_df.to_numpy()[:, 1:-1], all_geno_combs)\n",
    "p2_train_genos_df = pd.read_csv(cur_source + \"p2_train_genos_df.csv\")\n",
    "p2_train_genos_one_hot = to_one_hot(p2_train_genos_df.to_numpy()[:, 1:-1], all_geno_combs)\n",
    "\n",
    "all_p_test_one_hot = (p1_test_genos_one_hot * p2_test_genos_one_hot)\n",
    "all_p_train_one_hot = (p1_train_genos_one_hot * p2_train_genos_one_hot)"
   ]
  },
  {
   "cell_type": "code",
   "execution_count": 5,
   "metadata": {},
   "outputs": [],
   "source": [
    "unique_train_p = np.unique(all_p_train_one_hot.reshape((all_p_train_one_hot.shape[0], -1)), axis = 0)\n",
    "unique_train_p_pops = np.unique(p1_train_genos_df[\"pop\"].to_numpy())\n",
    "unique_test_p = np.unique(all_p_test_one_hot.reshape((all_p_test_one_hot.shape[0], -1)), axis = 0)\n",
    "unique_test_p_pops = np.unique(p1_test_genos_df[\"pop\"].to_numpy())"
   ]
  },
  {
   "cell_type": "code",
   "execution_count": 43,
   "metadata": {},
   "outputs": [],
   "source": [
    "all_p_vec = np.concatenate([unique_test_p, unique_train_p], axis = 0)\n",
    "data_labels = [\"test\" for i in range(len(unique_test_p_pops))] + [\"train\" for i in range(len(unique_train_p_pops))]\n",
    "pairwise_p_dist = pairwise_distances(all_p_vec, metric=\"hamming\")\n",
    "pairwise_p_dist_df = pd.DataFrame(pairwise_p_dist)\n",
    "pairwise_p_dist_df[\"pop\"] = np.concatenate((unique_test_p_pops, unique_train_p_pops))\n",
    "pairwise_p_dist_df[\"data_type\"] = data_labels\n",
    "pairwise_p_dist_df.to_csv(cur_source + \"p_genos_pairwise_dist.csv\")"
   ]
  },
  {
   "cell_type": "code",
   "execution_count": 44,
   "metadata": {},
   "outputs": [],
   "source": [
    "child_genos_test_long = child_genos_test_one_hot.reshape((child_genos_test_one_hot.shape[0], -1))\n",
    "child_genos_train_long = child_genos_train_one_hot.reshape((child_genos_train_one_hot.shape[0], -1))"
   ]
  },
  {
   "cell_type": "code",
   "execution_count": 39,
   "metadata": {},
   "outputs": [],
   "source": [
    "test_c_pops = child_genos_test[\"pop\"].to_numpy()\n",
    "train_c_pops = child_genos_train[\"pop\"].to_numpy()"
   ]
  },
  {
   "cell_type": "code",
   "execution_count": 45,
   "metadata": {},
   "outputs": [],
   "source": [
    "all_c_vec = np.concatenate([child_genos_test_long, child_genos_train_long], axis = 0)\n",
    "data_labels = [\"test\" for i in range(len(test_c_pops))] + [\"train\" for i in range(len(train_c_pops))]\n",
    "pairwise_c_dist = pairwise_distances(all_c_vec, metric=\"hamming\")\n",
    "pairwise_c_dist_df = pd.DataFrame(pairwise_c_dist)\n",
    "pairwise_c_dist_df[\"pop\"] = np.concatenate((test_c_pops, train_c_pops), axis = 0)\n",
    "pairwise_c_dist_df[\"data_type\"] = data_labels\n",
    "pairwise_c_dist_df.to_csv(cur_source + \"c_genos_pairwise_dist.csv\")"
   ]
  },
  {
   "cell_type": "code",
   "execution_count": null,
   "metadata": {},
   "outputs": [],
   "source": []
  }
 ],
 "metadata": {
  "kernelspec": {
   "display_name": "data_ana",
   "language": "python",
   "name": "python3"
  },
  "language_info": {
   "codemirror_mode": {
    "name": "ipython",
    "version": 3
   },
   "file_extension": ".py",
   "mimetype": "text/x-python",
   "name": "python",
   "nbconvert_exporter": "python",
   "pygments_lexer": "ipython3",
   "version": "3.12.4"
  }
 },
 "nbformat": 4,
 "nbformat_minor": 2
}
