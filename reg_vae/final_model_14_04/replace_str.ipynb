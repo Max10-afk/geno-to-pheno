{
 "cells": [
  {
   "cell_type": "code",
   "execution_count": 1,
   "id": "fb2b4b6e",
   "metadata": {},
   "outputs": [],
   "source": [
    "import os"
   ]
  },
  {
   "cell_type": "code",
   "execution_count": 2,
   "id": "69b9ae28",
   "metadata": {},
   "outputs": [],
   "source": [
    "# function that recursively finds all .py files in a directory and replaces a specific string in them\n",
    "def replace_string_in_py_files(directory, old_string, new_string):\n",
    "    for root, dirs, files in os.walk(directory):\n",
    "        for filename in files:\n",
    "            if filename.endswith(\".py\"):\n",
    "                file_path = os.path.join(root, filename)\n",
    "                with open(file_path, \"r\") as file:\n",
    "                    file_contents = file.read()\n",
    "                file_contents = file_contents.replace(old_string, new_string)\n",
    "                with open(file_path, \"w\") as file:\n",
    "                    file.write(file_contents)\n"
   ]
  },
  {
   "cell_type": "code",
   "execution_count": null,
   "id": "39c2cb07",
   "metadata": {},
   "outputs": [],
   "source": [
    "replace_string_in_py_files"
   ]
  }
 ],
 "metadata": {
  "kernelspec": {
   "display_name": "tf-bb",
   "language": "python",
   "name": "python3"
  },
  "language_info": {
   "codemirror_mode": {
    "name": "ipython",
    "version": 3
   },
   "file_extension": ".py",
   "mimetype": "text/x-python",
   "name": "python",
   "nbconvert_exporter": "python",
   "pygments_lexer": "ipython3",
   "version": "3.10.0"
  }
 },
 "nbformat": 4,
 "nbformat_minor": 5
}
