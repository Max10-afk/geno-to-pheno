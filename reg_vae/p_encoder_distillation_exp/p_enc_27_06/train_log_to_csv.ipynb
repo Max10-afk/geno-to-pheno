{
 "cells": [
  {
   "cell_type": "code",
   "execution_count": 1,
   "id": "746181fd",
   "metadata": {},
   "outputs": [],
   "source": [
    "import os\n",
    "import numpy as np\n",
    "import pandas as pd"
   ]
  },
  {
   "cell_type": "code",
   "execution_count": 19,
   "id": "2a826d1e",
   "metadata": {},
   "outputs": [],
   "source": [
    "dir_path = \"./model_with_diff_p_dec_enc_final_dense_pos/enc_train_only_2/\"\n",
    "file_path = dir_path + \"train_hist.txt\""
   ]
  },
  {
   "cell_type": "code",
   "execution_count": 20,
   "id": "74a262ec",
   "metadata": {},
   "outputs": [],
   "source": [
    "data_dict = {\"train\" : [],\n",
    "              \"val\" : []}\n",
    "cols = []\n",
    "with open(file_path, \"r\") as f:\n",
    "    all_data = f.readlines()\n",
    "    for cur_line in all_data:\n",
    "        if cur_line.endswith(\"train metrics:\\n\"):\n",
    "            dtype = \"train\"\n",
    "        elif cur_line.endswith(\"val metrics:\\n\"):\n",
    "            dtype = \"val\"\n",
    "        elif cur_line.startswith(\"kl_scale\"):\n",
    "            single_metrics = cur_line.strip().split(\",\")\n",
    "            single_metrics = single_metrics[:-1]\n",
    "            metric_vals = [float(cur_metric.strip().split(\":\")[1]) for cur_metric in single_metrics]\n",
    "            cols = [cur_metric.strip().split(\":\")[0] for cur_metric in single_metrics]\n",
    "            data_dict[dtype].append(np.array(metric_vals))"
   ]
  },
  {
   "cell_type": "code",
   "execution_count": 23,
   "id": "5ef8ee1f",
   "metadata": {},
   "outputs": [],
   "source": [
    "train_data = pd.DataFrame(data_dict[\"train\"], columns = cols)\n",
    "val_data = pd.DataFrame(data_dict[\"val\"], columns = [\"val_\" + cur_col for cur_col in cols])\n",
    "empty_row = pd.DataFrame(dict(zip(cols + [\"val_\" + cur_col for cur_col in cols], [[1.0]] * len(cols) * 2)))\n",
    "full_df = pd.concat([train_data, val_data], axis = 1)\n",
    "full_df = pd.concat([empty_row, full_df])\n",
    "full_df.to_csv(dir_path + \"train_hist.csv\", index = True)"
   ]
  }
 ],
 "metadata": {
  "kernelspec": {
   "display_name": "tf-bb",
   "language": "python",
   "name": "python3"
  },
  "language_info": {
   "codemirror_mode": {
    "name": "ipython",
    "version": 3
   },
   "file_extension": ".py",
   "mimetype": "text/x-python",
   "name": "python",
   "nbconvert_exporter": "python",
   "pygments_lexer": "ipython3",
   "version": "3.10.0"
  }
 },
 "nbformat": 4,
 "nbformat_minor": 5
}
